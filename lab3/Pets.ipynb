{
  "nbformat": 4,
  "nbformat_minor": 0,
  "metadata": {
    "colab": {
      "name": "Pets.ipynb",
      "provenance": [],
      "collapsed_sections": []
    },
    "kernelspec": {
      "name": "python3",
      "display_name": "Python 3"
    },
    "language_info": {
      "name": "python"
    },
    "accelerator": "GPU",
    "widgets": {
      "application/vnd.jupyter.widget-state+json": {
        "0b416775c69f46288ae63fd142987b19": {
          "model_module": "@jupyter-widgets/controls",
          "model_name": "HBoxModel",
          "model_module_version": "1.5.0",
          "state": {
            "_dom_classes": [],
            "_model_module": "@jupyter-widgets/controls",
            "_model_module_version": "1.5.0",
            "_model_name": "HBoxModel",
            "_view_count": null,
            "_view_module": "@jupyter-widgets/controls",
            "_view_module_version": "1.5.0",
            "_view_name": "HBoxView",
            "box_style": "",
            "children": [
              "IPY_MODEL_6a1d4dc39e4645a1a48958e80ae7909d",
              "IPY_MODEL_ececaf4a533446a189020ca483938872",
              "IPY_MODEL_6b0abfc61f8a4f94a1a230dd13762166"
            ],
            "layout": "IPY_MODEL_cf164721d7e9468d8759a1aaa7e326d1"
          }
        },
        "6a1d4dc39e4645a1a48958e80ae7909d": {
          "model_module": "@jupyter-widgets/controls",
          "model_name": "HTMLModel",
          "model_module_version": "1.5.0",
          "state": {
            "_dom_classes": [],
            "_model_module": "@jupyter-widgets/controls",
            "_model_module_version": "1.5.0",
            "_model_name": "HTMLModel",
            "_view_count": null,
            "_view_module": "@jupyter-widgets/controls",
            "_view_module_version": "1.5.0",
            "_view_name": "HTMLView",
            "description": "",
            "description_tooltip": null,
            "layout": "IPY_MODEL_11b7df7984c4405fab144bd1dd795bb3",
            "placeholder": "​",
            "style": "IPY_MODEL_6614e5b539d842e79cdfd8fae26fe936",
            "value": "100%"
          }
        },
        "ececaf4a533446a189020ca483938872": {
          "model_module": "@jupyter-widgets/controls",
          "model_name": "FloatProgressModel",
          "model_module_version": "1.5.0",
          "state": {
            "_dom_classes": [],
            "_model_module": "@jupyter-widgets/controls",
            "_model_module_version": "1.5.0",
            "_model_name": "FloatProgressModel",
            "_view_count": null,
            "_view_module": "@jupyter-widgets/controls",
            "_view_module_version": "1.5.0",
            "_view_name": "ProgressView",
            "bar_style": "success",
            "description": "",
            "description_tooltip": null,
            "layout": "IPY_MODEL_54da9c757d124d3d9cf0163ba13d6b3c",
            "max": 553433881,
            "min": 0,
            "orientation": "horizontal",
            "style": "IPY_MODEL_35f6e7c0de744e70ac16d9d208ce356b",
            "value": 553433881
          }
        },
        "6b0abfc61f8a4f94a1a230dd13762166": {
          "model_module": "@jupyter-widgets/controls",
          "model_name": "HTMLModel",
          "model_module_version": "1.5.0",
          "state": {
            "_dom_classes": [],
            "_model_module": "@jupyter-widgets/controls",
            "_model_module_version": "1.5.0",
            "_model_name": "HTMLModel",
            "_view_count": null,
            "_view_module": "@jupyter-widgets/controls",
            "_view_module_version": "1.5.0",
            "_view_name": "HTMLView",
            "description": "",
            "description_tooltip": null,
            "layout": "IPY_MODEL_a33140a940c6482e93508ca84a2843e0",
            "placeholder": "​",
            "style": "IPY_MODEL_6570906a0c004b5eb4415f92ed6e82dc",
            "value": " 528M/528M [00:08&lt;00:00, 68.4MB/s]"
          }
        },
        "cf164721d7e9468d8759a1aaa7e326d1": {
          "model_module": "@jupyter-widgets/base",
          "model_name": "LayoutModel",
          "model_module_version": "1.2.0",
          "state": {
            "_model_module": "@jupyter-widgets/base",
            "_model_module_version": "1.2.0",
            "_model_name": "LayoutModel",
            "_view_count": null,
            "_view_module": "@jupyter-widgets/base",
            "_view_module_version": "1.2.0",
            "_view_name": "LayoutView",
            "align_content": null,
            "align_items": null,
            "align_self": null,
            "border": null,
            "bottom": null,
            "display": null,
            "flex": null,
            "flex_flow": null,
            "grid_area": null,
            "grid_auto_columns": null,
            "grid_auto_flow": null,
            "grid_auto_rows": null,
            "grid_column": null,
            "grid_gap": null,
            "grid_row": null,
            "grid_template_areas": null,
            "grid_template_columns": null,
            "grid_template_rows": null,
            "height": null,
            "justify_content": null,
            "justify_items": null,
            "left": null,
            "margin": null,
            "max_height": null,
            "max_width": null,
            "min_height": null,
            "min_width": null,
            "object_fit": null,
            "object_position": null,
            "order": null,
            "overflow": null,
            "overflow_x": null,
            "overflow_y": null,
            "padding": null,
            "right": null,
            "top": null,
            "visibility": null,
            "width": null
          }
        },
        "11b7df7984c4405fab144bd1dd795bb3": {
          "model_module": "@jupyter-widgets/base",
          "model_name": "LayoutModel",
          "model_module_version": "1.2.0",
          "state": {
            "_model_module": "@jupyter-widgets/base",
            "_model_module_version": "1.2.0",
            "_model_name": "LayoutModel",
            "_view_count": null,
            "_view_module": "@jupyter-widgets/base",
            "_view_module_version": "1.2.0",
            "_view_name": "LayoutView",
            "align_content": null,
            "align_items": null,
            "align_self": null,
            "border": null,
            "bottom": null,
            "display": null,
            "flex": null,
            "flex_flow": null,
            "grid_area": null,
            "grid_auto_columns": null,
            "grid_auto_flow": null,
            "grid_auto_rows": null,
            "grid_column": null,
            "grid_gap": null,
            "grid_row": null,
            "grid_template_areas": null,
            "grid_template_columns": null,
            "grid_template_rows": null,
            "height": null,
            "justify_content": null,
            "justify_items": null,
            "left": null,
            "margin": null,
            "max_height": null,
            "max_width": null,
            "min_height": null,
            "min_width": null,
            "object_fit": null,
            "object_position": null,
            "order": null,
            "overflow": null,
            "overflow_x": null,
            "overflow_y": null,
            "padding": null,
            "right": null,
            "top": null,
            "visibility": null,
            "width": null
          }
        },
        "6614e5b539d842e79cdfd8fae26fe936": {
          "model_module": "@jupyter-widgets/controls",
          "model_name": "DescriptionStyleModel",
          "model_module_version": "1.5.0",
          "state": {
            "_model_module": "@jupyter-widgets/controls",
            "_model_module_version": "1.5.0",
            "_model_name": "DescriptionStyleModel",
            "_view_count": null,
            "_view_module": "@jupyter-widgets/base",
            "_view_module_version": "1.2.0",
            "_view_name": "StyleView",
            "description_width": ""
          }
        },
        "54da9c757d124d3d9cf0163ba13d6b3c": {
          "model_module": "@jupyter-widgets/base",
          "model_name": "LayoutModel",
          "model_module_version": "1.2.0",
          "state": {
            "_model_module": "@jupyter-widgets/base",
            "_model_module_version": "1.2.0",
            "_model_name": "LayoutModel",
            "_view_count": null,
            "_view_module": "@jupyter-widgets/base",
            "_view_module_version": "1.2.0",
            "_view_name": "LayoutView",
            "align_content": null,
            "align_items": null,
            "align_self": null,
            "border": null,
            "bottom": null,
            "display": null,
            "flex": null,
            "flex_flow": null,
            "grid_area": null,
            "grid_auto_columns": null,
            "grid_auto_flow": null,
            "grid_auto_rows": null,
            "grid_column": null,
            "grid_gap": null,
            "grid_row": null,
            "grid_template_areas": null,
            "grid_template_columns": null,
            "grid_template_rows": null,
            "height": null,
            "justify_content": null,
            "justify_items": null,
            "left": null,
            "margin": null,
            "max_height": null,
            "max_width": null,
            "min_height": null,
            "min_width": null,
            "object_fit": null,
            "object_position": null,
            "order": null,
            "overflow": null,
            "overflow_x": null,
            "overflow_y": null,
            "padding": null,
            "right": null,
            "top": null,
            "visibility": null,
            "width": null
          }
        },
        "35f6e7c0de744e70ac16d9d208ce356b": {
          "model_module": "@jupyter-widgets/controls",
          "model_name": "ProgressStyleModel",
          "model_module_version": "1.5.0",
          "state": {
            "_model_module": "@jupyter-widgets/controls",
            "_model_module_version": "1.5.0",
            "_model_name": "ProgressStyleModel",
            "_view_count": null,
            "_view_module": "@jupyter-widgets/base",
            "_view_module_version": "1.2.0",
            "_view_name": "StyleView",
            "bar_color": null,
            "description_width": ""
          }
        },
        "a33140a940c6482e93508ca84a2843e0": {
          "model_module": "@jupyter-widgets/base",
          "model_name": "LayoutModel",
          "model_module_version": "1.2.0",
          "state": {
            "_model_module": "@jupyter-widgets/base",
            "_model_module_version": "1.2.0",
            "_model_name": "LayoutModel",
            "_view_count": null,
            "_view_module": "@jupyter-widgets/base",
            "_view_module_version": "1.2.0",
            "_view_name": "LayoutView",
            "align_content": null,
            "align_items": null,
            "align_self": null,
            "border": null,
            "bottom": null,
            "display": null,
            "flex": null,
            "flex_flow": null,
            "grid_area": null,
            "grid_auto_columns": null,
            "grid_auto_flow": null,
            "grid_auto_rows": null,
            "grid_column": null,
            "grid_gap": null,
            "grid_row": null,
            "grid_template_areas": null,
            "grid_template_columns": null,
            "grid_template_rows": null,
            "height": null,
            "justify_content": null,
            "justify_items": null,
            "left": null,
            "margin": null,
            "max_height": null,
            "max_width": null,
            "min_height": null,
            "min_width": null,
            "object_fit": null,
            "object_position": null,
            "order": null,
            "overflow": null,
            "overflow_x": null,
            "overflow_y": null,
            "padding": null,
            "right": null,
            "top": null,
            "visibility": null,
            "width": null
          }
        },
        "6570906a0c004b5eb4415f92ed6e82dc": {
          "model_module": "@jupyter-widgets/controls",
          "model_name": "DescriptionStyleModel",
          "model_module_version": "1.5.0",
          "state": {
            "_model_module": "@jupyter-widgets/controls",
            "_model_module_version": "1.5.0",
            "_model_name": "DescriptionStyleModel",
            "_view_count": null,
            "_view_module": "@jupyter-widgets/base",
            "_view_module_version": "1.2.0",
            "_view_name": "StyleView",
            "description_width": ""
          }
        },
        "0e05a18b75d440e7a82bfc5efa622e52": {
          "model_module": "@jupyter-widgets/controls",
          "model_name": "HBoxModel",
          "model_module_version": "1.5.0",
          "state": {
            "_dom_classes": [],
            "_model_module": "@jupyter-widgets/controls",
            "_model_module_version": "1.5.0",
            "_model_name": "HBoxModel",
            "_view_count": null,
            "_view_module": "@jupyter-widgets/controls",
            "_view_module_version": "1.5.0",
            "_view_name": "HBoxView",
            "box_style": "",
            "children": [
              "IPY_MODEL_eb26cdf935a341d2ac877f379c397a32",
              "IPY_MODEL_a8c6d57e96b9423f833533edfaf2f220",
              "IPY_MODEL_a51cafc087f84139ab10450d37a03d53"
            ],
            "layout": "IPY_MODEL_aaa230c2fdc54bdfa91a3759fc9eaf5b"
          }
        },
        "eb26cdf935a341d2ac877f379c397a32": {
          "model_module": "@jupyter-widgets/controls",
          "model_name": "HTMLModel",
          "model_module_version": "1.5.0",
          "state": {
            "_dom_classes": [],
            "_model_module": "@jupyter-widgets/controls",
            "_model_module_version": "1.5.0",
            "_model_name": "HTMLModel",
            "_view_count": null,
            "_view_module": "@jupyter-widgets/controls",
            "_view_module_version": "1.5.0",
            "_view_name": "HTMLView",
            "description": "",
            "description_tooltip": null,
            "layout": "IPY_MODEL_67aeff546c4f492aa13ea97b6a312405",
            "placeholder": "​",
            "style": "IPY_MODEL_79046f9053cd4c29a99f56c89c6620d2",
            "value": "100%"
          }
        },
        "a8c6d57e96b9423f833533edfaf2f220": {
          "model_module": "@jupyter-widgets/controls",
          "model_name": "FloatProgressModel",
          "model_module_version": "1.5.0",
          "state": {
            "_dom_classes": [],
            "_model_module": "@jupyter-widgets/controls",
            "_model_module_version": "1.5.0",
            "_model_name": "FloatProgressModel",
            "_view_count": null,
            "_view_module": "@jupyter-widgets/controls",
            "_view_module_version": "1.5.0",
            "_view_name": "ProgressView",
            "bar_style": "success",
            "description": "",
            "description_tooltip": null,
            "layout": "IPY_MODEL_6815335f90aa49d5bd9818f4effc4d61",
            "max": 46830571,
            "min": 0,
            "orientation": "horizontal",
            "style": "IPY_MODEL_cc344e7f0f5b42e9ac1765f1fcb70f13",
            "value": 46830571
          }
        },
        "a51cafc087f84139ab10450d37a03d53": {
          "model_module": "@jupyter-widgets/controls",
          "model_name": "HTMLModel",
          "model_module_version": "1.5.0",
          "state": {
            "_dom_classes": [],
            "_model_module": "@jupyter-widgets/controls",
            "_model_module_version": "1.5.0",
            "_model_name": "HTMLModel",
            "_view_count": null,
            "_view_module": "@jupyter-widgets/controls",
            "_view_module_version": "1.5.0",
            "_view_name": "HTMLView",
            "description": "",
            "description_tooltip": null,
            "layout": "IPY_MODEL_821f30eeeea24cd185af8914edcce9e6",
            "placeholder": "​",
            "style": "IPY_MODEL_101e34929b41426cb7f243a6f3b681e0",
            "value": " 44.7M/44.7M [00:00&lt;00:00, 91.5MB/s]"
          }
        },
        "aaa230c2fdc54bdfa91a3759fc9eaf5b": {
          "model_module": "@jupyter-widgets/base",
          "model_name": "LayoutModel",
          "model_module_version": "1.2.0",
          "state": {
            "_model_module": "@jupyter-widgets/base",
            "_model_module_version": "1.2.0",
            "_model_name": "LayoutModel",
            "_view_count": null,
            "_view_module": "@jupyter-widgets/base",
            "_view_module_version": "1.2.0",
            "_view_name": "LayoutView",
            "align_content": null,
            "align_items": null,
            "align_self": null,
            "border": null,
            "bottom": null,
            "display": null,
            "flex": null,
            "flex_flow": null,
            "grid_area": null,
            "grid_auto_columns": null,
            "grid_auto_flow": null,
            "grid_auto_rows": null,
            "grid_column": null,
            "grid_gap": null,
            "grid_row": null,
            "grid_template_areas": null,
            "grid_template_columns": null,
            "grid_template_rows": null,
            "height": null,
            "justify_content": null,
            "justify_items": null,
            "left": null,
            "margin": null,
            "max_height": null,
            "max_width": null,
            "min_height": null,
            "min_width": null,
            "object_fit": null,
            "object_position": null,
            "order": null,
            "overflow": null,
            "overflow_x": null,
            "overflow_y": null,
            "padding": null,
            "right": null,
            "top": null,
            "visibility": null,
            "width": null
          }
        },
        "67aeff546c4f492aa13ea97b6a312405": {
          "model_module": "@jupyter-widgets/base",
          "model_name": "LayoutModel",
          "model_module_version": "1.2.0",
          "state": {
            "_model_module": "@jupyter-widgets/base",
            "_model_module_version": "1.2.0",
            "_model_name": "LayoutModel",
            "_view_count": null,
            "_view_module": "@jupyter-widgets/base",
            "_view_module_version": "1.2.0",
            "_view_name": "LayoutView",
            "align_content": null,
            "align_items": null,
            "align_self": null,
            "border": null,
            "bottom": null,
            "display": null,
            "flex": null,
            "flex_flow": null,
            "grid_area": null,
            "grid_auto_columns": null,
            "grid_auto_flow": null,
            "grid_auto_rows": null,
            "grid_column": null,
            "grid_gap": null,
            "grid_row": null,
            "grid_template_areas": null,
            "grid_template_columns": null,
            "grid_template_rows": null,
            "height": null,
            "justify_content": null,
            "justify_items": null,
            "left": null,
            "margin": null,
            "max_height": null,
            "max_width": null,
            "min_height": null,
            "min_width": null,
            "object_fit": null,
            "object_position": null,
            "order": null,
            "overflow": null,
            "overflow_x": null,
            "overflow_y": null,
            "padding": null,
            "right": null,
            "top": null,
            "visibility": null,
            "width": null
          }
        },
        "79046f9053cd4c29a99f56c89c6620d2": {
          "model_module": "@jupyter-widgets/controls",
          "model_name": "DescriptionStyleModel",
          "model_module_version": "1.5.0",
          "state": {
            "_model_module": "@jupyter-widgets/controls",
            "_model_module_version": "1.5.0",
            "_model_name": "DescriptionStyleModel",
            "_view_count": null,
            "_view_module": "@jupyter-widgets/base",
            "_view_module_version": "1.2.0",
            "_view_name": "StyleView",
            "description_width": ""
          }
        },
        "6815335f90aa49d5bd9818f4effc4d61": {
          "model_module": "@jupyter-widgets/base",
          "model_name": "LayoutModel",
          "model_module_version": "1.2.0",
          "state": {
            "_model_module": "@jupyter-widgets/base",
            "_model_module_version": "1.2.0",
            "_model_name": "LayoutModel",
            "_view_count": null,
            "_view_module": "@jupyter-widgets/base",
            "_view_module_version": "1.2.0",
            "_view_name": "LayoutView",
            "align_content": null,
            "align_items": null,
            "align_self": null,
            "border": null,
            "bottom": null,
            "display": null,
            "flex": null,
            "flex_flow": null,
            "grid_area": null,
            "grid_auto_columns": null,
            "grid_auto_flow": null,
            "grid_auto_rows": null,
            "grid_column": null,
            "grid_gap": null,
            "grid_row": null,
            "grid_template_areas": null,
            "grid_template_columns": null,
            "grid_template_rows": null,
            "height": null,
            "justify_content": null,
            "justify_items": null,
            "left": null,
            "margin": null,
            "max_height": null,
            "max_width": null,
            "min_height": null,
            "min_width": null,
            "object_fit": null,
            "object_position": null,
            "order": null,
            "overflow": null,
            "overflow_x": null,
            "overflow_y": null,
            "padding": null,
            "right": null,
            "top": null,
            "visibility": null,
            "width": null
          }
        },
        "cc344e7f0f5b42e9ac1765f1fcb70f13": {
          "model_module": "@jupyter-widgets/controls",
          "model_name": "ProgressStyleModel",
          "model_module_version": "1.5.0",
          "state": {
            "_model_module": "@jupyter-widgets/controls",
            "_model_module_version": "1.5.0",
            "_model_name": "ProgressStyleModel",
            "_view_count": null,
            "_view_module": "@jupyter-widgets/base",
            "_view_module_version": "1.2.0",
            "_view_name": "StyleView",
            "bar_color": null,
            "description_width": ""
          }
        },
        "821f30eeeea24cd185af8914edcce9e6": {
          "model_module": "@jupyter-widgets/base",
          "model_name": "LayoutModel",
          "model_module_version": "1.2.0",
          "state": {
            "_model_module": "@jupyter-widgets/base",
            "_model_module_version": "1.2.0",
            "_model_name": "LayoutModel",
            "_view_count": null,
            "_view_module": "@jupyter-widgets/base",
            "_view_module_version": "1.2.0",
            "_view_name": "LayoutView",
            "align_content": null,
            "align_items": null,
            "align_self": null,
            "border": null,
            "bottom": null,
            "display": null,
            "flex": null,
            "flex_flow": null,
            "grid_area": null,
            "grid_auto_columns": null,
            "grid_auto_flow": null,
            "grid_auto_rows": null,
            "grid_column": null,
            "grid_gap": null,
            "grid_row": null,
            "grid_template_areas": null,
            "grid_template_columns": null,
            "grid_template_rows": null,
            "height": null,
            "justify_content": null,
            "justify_items": null,
            "left": null,
            "margin": null,
            "max_height": null,
            "max_width": null,
            "min_height": null,
            "min_width": null,
            "object_fit": null,
            "object_position": null,
            "order": null,
            "overflow": null,
            "overflow_x": null,
            "overflow_y": null,
            "padding": null,
            "right": null,
            "top": null,
            "visibility": null,
            "width": null
          }
        },
        "101e34929b41426cb7f243a6f3b681e0": {
          "model_module": "@jupyter-widgets/controls",
          "model_name": "DescriptionStyleModel",
          "model_module_version": "1.5.0",
          "state": {
            "_model_module": "@jupyter-widgets/controls",
            "_model_module_version": "1.5.0",
            "_model_name": "DescriptionStyleModel",
            "_view_count": null,
            "_view_module": "@jupyter-widgets/base",
            "_view_module_version": "1.2.0",
            "_view_name": "StyleView",
            "description_width": ""
          }
        }
      }
    }
  },
  "cells": [
    {
      "cell_type": "markdown",
      "source": [
        "# Искусственный интеллект\n",
        "## ЛР 3 (часть 2)"
      ],
      "metadata": {
        "id": "C7xaUiMnmyO_"
      }
    },
    {
      "cell_type": "code",
      "execution_count": 1,
      "metadata": {
        "id": "9uZcaGxHmurv"
      },
      "outputs": [],
      "source": [
        "import matplotlib.pyplot as plt\n",
        "import numpy as np\n",
        "import os\n",
        "import shutil\n",
        "import PIL\n",
        "\n",
        "import torch\n",
        "from torchvision import datasets, models, transforms\n",
        "from torch.utils.data import Dataset, DataLoader\n",
        "import torch.nn as nn"
      ]
    },
    {
      "cell_type": "code",
      "source": [
        "random_state = 0xDEAD\n",
        "np.random.seed(random_state)\n",
        "torch.random.manual_seed(random_state)\n",
        "torch.cuda.random.manual_seed_all(random_state);"
      ],
      "metadata": {
        "id": "fiRzun4rMxP-"
      },
      "execution_count": 2,
      "outputs": []
    },
    {
      "cell_type": "code",
      "source": [
        "device = 'cuda' if torch.cuda.is_available() else 'cpu'\n",
        "device"
      ],
      "metadata": {
        "colab": {
          "base_uri": "https://localhost:8080/",
          "height": 35
        },
        "id": "OYdjm-NsMyKU",
        "outputId": "88da7afc-33e6-4b99-b626-76c2c7a2a53a"
      },
      "execution_count": 3,
      "outputs": [
        {
          "output_type": "execute_result",
          "data": {
            "text/plain": [
              "'cuda'"
            ],
            "application/vnd.google.colaboratory.intrinsic+json": {
              "type": "string"
            }
          },
          "metadata": {},
          "execution_count": 3
        }
      ]
    },
    {
      "cell_type": "markdown",
      "source": [
        "## Загрузка датасета\n",
        "### Oxford pets"
      ],
      "metadata": {
        "id": "1gYfHh5prCAY"
      }
    },
    {
      "cell_type": "code",
      "source": [
        "!wget https://mslearntensorflowlp.blob.core.windows.net/data/oxpets_images.tar.gz\n",
        "!tar xfz oxpets_images.tar.gz\n",
        "!rm oxpets_images.tar.gz"
      ],
      "metadata": {
        "colab": {
          "base_uri": "https://localhost:8080/"
        },
        "id": "Vd8AuIYOmyly",
        "outputId": "965ba284-bcf1-4c90-b8f1-ba69ce3e2382"
      },
      "execution_count": 4,
      "outputs": [
        {
          "output_type": "stream",
          "name": "stdout",
          "text": [
            "--2022-05-29 19:34:40--  https://mslearntensorflowlp.blob.core.windows.net/data/oxpets_images.tar.gz\n",
            "Resolving mslearntensorflowlp.blob.core.windows.net (mslearntensorflowlp.blob.core.windows.net)... 20.150.90.68\n",
            "Connecting to mslearntensorflowlp.blob.core.windows.net (mslearntensorflowlp.blob.core.windows.net)|20.150.90.68|:443... connected.\n",
            "HTTP request sent, awaiting response... 200 OK\n",
            "Length: 791918971 (755M) [application/x-gzip]\n",
            "Saving to: ‘oxpets_images.tar.gz’\n",
            "\n",
            "oxpets_images.tar.g 100%[===================>] 755.23M  31.9MB/s    in 23s     \n",
            "\n",
            "2022-05-29 19:35:03 (33.0 MB/s) - ‘oxpets_images.tar.gz’ saved [791918971/791918971]\n",
            "\n"
          ]
        }
      ]
    },
    {
      "cell_type": "markdown",
      "source": [
        "Имеем просто папку с картинками. Запихаем каждый класс в отдельную папку, чтобы потом можно было использовать стандартные функции для считывания данных"
      ],
      "metadata": {
        "id": "RWccO8B4DAv5"
      }
    },
    {
      "cell_type": "code",
      "source": [
        "images = os.listdir('images')"
      ],
      "metadata": {
        "id": "_TsEBimJDSqq"
      },
      "execution_count": 5,
      "outputs": []
    },
    {
      "cell_type": "code",
      "source": [
        "def get_class(string):\n",
        "    for i, ch in enumerate(string):\n",
        "        if ch.isdigit():\n",
        "            return string[:i-1]"
      ],
      "metadata": {
        "id": "x_21_muLFYnV"
      },
      "execution_count": 6,
      "outputs": []
    },
    {
      "cell_type": "code",
      "source": [
        "classes = list(set([get_class(img) for img in images if get_class(img) is not None]))\n",
        "classes"
      ],
      "metadata": {
        "colab": {
          "base_uri": "https://localhost:8080/"
        },
        "id": "H0BVTsb4KsO-",
        "outputId": "1d0bc3b6-a277-4796-ade7-a5ee620d9179"
      },
      "execution_count": 7,
      "outputs": [
        {
          "output_type": "execute_result",
          "data": {
            "text/plain": [
              "['Bengal',\n",
              " 'Russian_Blue',\n",
              " 'great_pyrenees',\n",
              " 'american_pit_bull_terrier',\n",
              " 'pug',\n",
              " 'chihuahua',\n",
              " 'Abyssinian',\n",
              " 'miniature_pinscher',\n",
              " 'Sphynx',\n",
              " 'boxer',\n",
              " 'shiba_inu',\n",
              " 'yorkshire_terrier',\n",
              " 'Ragdoll',\n",
              " 'Siamese',\n",
              " 'Maine_Coon',\n",
              " 'american_bulldog',\n",
              " 'pomeranian',\n",
              " 'basset_hound',\n",
              " 'german_shorthaired',\n",
              " 'Bombay',\n",
              " 'havanese',\n",
              " 'saint_bernard',\n",
              " 'scottish_terrier',\n",
              " 'english_cocker_spaniel',\n",
              " 'english_setter',\n",
              " 'leonberger',\n",
              " 'staffordshire_bull_terrier',\n",
              " 'British_Shorthair',\n",
              " 'keeshond',\n",
              " 'Persian',\n",
              " 'Birman',\n",
              " 'japanese_chin',\n",
              " 'beagle',\n",
              " 'wheaten_terrier',\n",
              " 'samoyed',\n",
              " 'newfoundland',\n",
              " 'Egyptian_Mau']"
            ]
          },
          "metadata": {},
          "execution_count": 7
        }
      ]
    },
    {
      "cell_type": "markdown",
      "source": [
        "Сразу поделим датасет на трейн и вал. Под валидацию оставим 20% картинок"
      ],
      "metadata": {
        "id": "EnfAt-F8NwgM"
      }
    },
    {
      "cell_type": "code",
      "source": [
        "os.makedirs('./dataset')\n",
        "os.makedirs('./dataset/train')\n",
        "os.makedirs('./dataset/val')\n",
        "val_size = 0.2\n",
        "\n",
        "for cl in classes:\n",
        "    os.makedirs(os.path.join('dataset/train', cl))\n",
        "    os.makedirs(os.path.join('dataset/val', cl))"
      ],
      "metadata": {
        "id": "g60nGN22Ky_h"
      },
      "execution_count": 8,
      "outputs": []
    },
    {
      "cell_type": "code",
      "source": [
        "for i, image in enumerate(images):\n",
        "    cur_class = get_class(image)\n",
        "    if cur_class is None:\n",
        "        continue\n",
        "    if np.random.random(1) < 1 - val_size:\n",
        "        shutil.copy(os.path.join('images', image), os.path.join('dataset/train', cur_class))\n",
        "    else:\n",
        "        shutil.copy(os.path.join('images', image), os.path.join('dataset/val', cur_class))"
      ],
      "metadata": {
        "id": "hhPWTHzxEHES"
      },
      "execution_count": 9,
      "outputs": []
    },
    {
      "cell_type": "markdown",
      "source": [
        "Сразу преобразуем картинки к тензору и нормируем их"
      ],
      "metadata": {
        "id": "5vgw_PG5L4m4"
      }
    },
    {
      "cell_type": "code",
      "source": [
        "transform = transforms.Compose([\n",
        "                                transforms.Resize((128, 128)),\n",
        "                                transforms.ToTensor(),\n",
        "                                transforms.Normalize((0.5, 0.5, 0.5), (0.5, 0.5, 0.5))\n",
        "                                ])\n",
        "\n",
        "train_dataset = datasets.ImageFolder('/content/dataset/train', transform=transform)\n",
        "val_dataset = datasets.ImageFolder('/content/dataset/val', transform=transform)"
      ],
      "metadata": {
        "id": "XbncTM4PrK1A"
      },
      "execution_count": 10,
      "outputs": []
    },
    {
      "cell_type": "code",
      "source": [
        "len(train_dataset), len(val_dataset)"
      ],
      "metadata": {
        "id": "imhcue4ZroP3",
        "colab": {
          "base_uri": "https://localhost:8080/"
        },
        "outputId": "a358d9ce-5ecf-4e66-ec04-a73e668749fc"
      },
      "execution_count": 11,
      "outputs": [
        {
          "output_type": "execute_result",
          "data": {
            "text/plain": [
              "(5881, 1509)"
            ]
          },
          "metadata": {},
          "execution_count": 11
        }
      ]
    },
    {
      "cell_type": "markdown",
      "source": [
        "Сделаем даталоадеры"
      ],
      "metadata": {
        "id": "PAuPBoznOyRY"
      }
    },
    {
      "cell_type": "code",
      "source": [
        "batch_size = 64\n",
        "\n",
        "train_loader = DataLoader(train_dataset, batch_size=batch_size, shuffle=True, drop_last=True)\n",
        "val_loader = DataLoader(val_dataset, batch_size=batch_size, shuffle=False, drop_last=True)"
      ],
      "metadata": {
        "id": "ZnarJQXlL-e3"
      },
      "execution_count": 12,
      "outputs": []
    },
    {
      "cell_type": "markdown",
      "source": [
        "## Функции для обучения модели"
      ],
      "metadata": {
        "id": "SLSymW84PWJi"
      }
    },
    {
      "cell_type": "code",
      "source": [
        "def train_model(model, train_loader, test_loader, epochs_num, optimizer, criterion, device):\n",
        "    train_loss_history = []\n",
        "    test_loss_history = []\n",
        "    train_acc_history = []\n",
        "    test_acc_history = []\n",
        "\n",
        "    for epoch in range(epochs_num):\n",
        "        cur_train_acc = 0\n",
        "        cur_test_acc = 0\n",
        "\n",
        "        cur_train_loss = 0\n",
        "        cur_test_loss = 0\n",
        "\n",
        "        # training\n",
        "        model.train()\n",
        "        for X_batch, y_batch in train_loader:\n",
        "            X_batch = X_batch.to(device)\n",
        "            y_batch = y_batch.to(device)\n",
        "            \n",
        "            # forward pass\n",
        "            y_pred = model(X_batch)\n",
        "            loss = criterion(y_pred, y_batch)\n",
        "            cur_train_loss += loss.item()\n",
        "\n",
        "            # backward pass\n",
        "            optimizer.zero_grad()\n",
        "            loss.backward()\n",
        "            optimizer.step()\n",
        "\n",
        "            # count metrics\n",
        "            cur_train_acc += (y_batch.squeeze() == torch.argmax(y_pred, axis=1)).cpu().numpy().sum()\n",
        "            \n",
        "        # testing\n",
        "        model.eval()\n",
        "        with torch.no_grad():\n",
        "            for X_batch, y_batch in test_loader:\n",
        "                X_batch = X_batch.to(device)\n",
        "                y_batch = y_batch.to(device)\n",
        "                \n",
        "                y_pred = model(X_batch)\n",
        "                cur_test_acc += (y_batch.squeeze() == torch.argmax(y_pred, axis=1)).cpu().numpy().sum()\n",
        "\n",
        "                loss = criterion(y_pred, y_batch)\n",
        "                cur_test_loss += loss.cpu().item()\n",
        "\n",
        "        \n",
        "        train_acc_history.append(cur_train_acc / (len(train_loader) * batch_size))\n",
        "        test_acc_history.append(cur_test_acc / (len(test_loader) * batch_size))\n",
        "        train_loss_history.append(cur_train_loss / (len(train_loader) * batch_size))\n",
        "        test_loss_history.append(cur_test_loss / (len(test_loader) * batch_size))\n",
        "    \n",
        "    return train_loss_history, test_loss_history, train_acc_history, test_acc_history"
      ],
      "metadata": {
        "id": "hmx2ILJRPMSc"
      },
      "execution_count": 13,
      "outputs": []
    },
    {
      "cell_type": "code",
      "source": [
        "def plot_loss_history(train_loss_history, test_loss_history):\n",
        "    plt.figure(figsize=(10, 8))\n",
        "    plt.title(\"Loss\")\n",
        "    plt.plot(range(1, len(train_loss_history) + 1), train_loss_history, linewidth=2, label='train loss')\n",
        "    plt.plot(range(1, len(test_loss_history) + 1), test_loss_history, linewidth=2, label='test loss')\n",
        "    plt.xlabel(\"Epoch\")\n",
        "    plt.legend()\n",
        "    plt.show()"
      ],
      "metadata": {
        "id": "mpkYCsF1PYR0"
      },
      "execution_count": 14,
      "outputs": []
    },
    {
      "cell_type": "code",
      "source": [
        "def plot_acc_history(train_acc_history, test_acc_history):\n",
        "    plt.figure(figsize=(10, 8))\n",
        "    plt.title(\"Accuracy\")\n",
        "    plt.plot(range(1, len(train_acc_history) + 1), train_acc_history, linewidth=2, label='train accuracy')\n",
        "    plt.plot(range(1, len(test_acc_history) + 1), test_acc_history, linewidth=2, label='test accuracy')\n",
        "    plt.xlabel(\"Epoch\")\n",
        "    plt.legend()\n",
        "    plt.show()"
      ],
      "metadata": {
        "id": "rOOvDn9GPaSa"
      },
      "execution_count": 15,
      "outputs": []
    },
    {
      "cell_type": "markdown",
      "source": [
        "Построение матрицы неточностей:"
      ],
      "metadata": {
        "id": "s9i6H6ZaP1xR"
      }
    },
    {
      "cell_type": "code",
      "source": [
        "import seaborn as sns\n",
        "import pandas as pd\n",
        "import matplotlib.pyplot as plt"
      ],
      "metadata": {
        "id": "266gNRLlQLKk"
      },
      "execution_count": 16,
      "outputs": []
    },
    {
      "cell_type": "code",
      "source": [
        "from sklearn.metrics import confusion_matrix\n",
        "\n",
        "def plot_confusion_matrix(model, test_loader):\n",
        "    preds = None\n",
        "    reals = None\n",
        "    model.eval()\n",
        "    with torch.no_grad():\n",
        "        for X_batch, y_batch in test_loader:\n",
        "            X_batch = X_batch.to(device)\n",
        "            y_batch = y_batch.to(device)\n",
        "\n",
        "            y_pred = model(X_batch)\n",
        "            if preds is None:\n",
        "                preds = torch.argmax(y_pred, axis=1).cpu().numpy()\n",
        "                reals = y_batch.cpu().numpy()\n",
        "            else:\n",
        "                preds = np.hstack([preds, torch.argmax(y_pred, axis=1).cpu().numpy()])\n",
        "                reals = np.hstack([reals, y_batch.cpu().numpy()])\n",
        "\n",
        "    confustion_matrix = confusion_matrix(reals, preds)\n",
        "    df_cm = pd.DataFrame(confustion_matrix, index = [i for i in classes], columns = [i for i in classes])\n",
        "    plt.figure(figsize = (15, 15))\n",
        "    sns.heatmap(df_cm, annot=True, cmap='Blues')\n",
        "    plt.show()"
      ],
      "metadata": {
        "id": "pRuyP10iPbze"
      },
      "execution_count": 17,
      "outputs": []
    },
    {
      "cell_type": "markdown",
      "source": [
        "## Обучение моделей"
      ],
      "metadata": {
        "id": "JlcPjfx7RGQt"
      }
    },
    {
      "cell_type": "markdown",
      "source": [
        "Попробуем дообучить VGG16"
      ],
      "metadata": {
        "id": "bCPxNvVQRJN8"
      }
    },
    {
      "cell_type": "code",
      "source": [
        "vgg = models.vgg16(pretrained=True)"
      ],
      "metadata": {
        "id": "cwGlHnI1QPQB",
        "colab": {
          "base_uri": "https://localhost:8080/",
          "height": 66,
          "referenced_widgets": [
            "0b416775c69f46288ae63fd142987b19",
            "6a1d4dc39e4645a1a48958e80ae7909d",
            "ececaf4a533446a189020ca483938872",
            "6b0abfc61f8a4f94a1a230dd13762166",
            "cf164721d7e9468d8759a1aaa7e326d1",
            "11b7df7984c4405fab144bd1dd795bb3",
            "6614e5b539d842e79cdfd8fae26fe936",
            "54da9c757d124d3d9cf0163ba13d6b3c",
            "35f6e7c0de744e70ac16d9d208ce356b",
            "a33140a940c6482e93508ca84a2843e0",
            "6570906a0c004b5eb4415f92ed6e82dc"
          ]
        },
        "outputId": "a3663c5f-aabf-4c25-886f-9a235ac450fa"
      },
      "execution_count": 18,
      "outputs": [
        {
          "output_type": "stream",
          "name": "stderr",
          "text": [
            "Downloading: \"https://download.pytorch.org/models/vgg16-397923af.pth\" to /root/.cache/torch/hub/checkpoints/vgg16-397923af.pth\n"
          ]
        },
        {
          "output_type": "display_data",
          "data": {
            "text/plain": [
              "  0%|          | 0.00/528M [00:00<?, ?B/s]"
            ],
            "application/vnd.jupyter.widget-view+json": {
              "version_major": 2,
              "version_minor": 0,
              "model_id": "0b416775c69f46288ae63fd142987b19"
            }
          },
          "metadata": {}
        }
      ]
    },
    {
      "cell_type": "code",
      "source": [
        "vgg"
      ],
      "metadata": {
        "colab": {
          "base_uri": "https://localhost:8080/"
        },
        "id": "w85sWzqYTXgS",
        "outputId": "f1d61d8b-0725-4c36-caa2-46ccec0e7119"
      },
      "execution_count": 19,
      "outputs": [
        {
          "output_type": "execute_result",
          "data": {
            "text/plain": [
              "VGG(\n",
              "  (features): Sequential(\n",
              "    (0): Conv2d(3, 64, kernel_size=(3, 3), stride=(1, 1), padding=(1, 1))\n",
              "    (1): ReLU(inplace=True)\n",
              "    (2): Conv2d(64, 64, kernel_size=(3, 3), stride=(1, 1), padding=(1, 1))\n",
              "    (3): ReLU(inplace=True)\n",
              "    (4): MaxPool2d(kernel_size=2, stride=2, padding=0, dilation=1, ceil_mode=False)\n",
              "    (5): Conv2d(64, 128, kernel_size=(3, 3), stride=(1, 1), padding=(1, 1))\n",
              "    (6): ReLU(inplace=True)\n",
              "    (7): Conv2d(128, 128, kernel_size=(3, 3), stride=(1, 1), padding=(1, 1))\n",
              "    (8): ReLU(inplace=True)\n",
              "    (9): MaxPool2d(kernel_size=2, stride=2, padding=0, dilation=1, ceil_mode=False)\n",
              "    (10): Conv2d(128, 256, kernel_size=(3, 3), stride=(1, 1), padding=(1, 1))\n",
              "    (11): ReLU(inplace=True)\n",
              "    (12): Conv2d(256, 256, kernel_size=(3, 3), stride=(1, 1), padding=(1, 1))\n",
              "    (13): ReLU(inplace=True)\n",
              "    (14): Conv2d(256, 256, kernel_size=(3, 3), stride=(1, 1), padding=(1, 1))\n",
              "    (15): ReLU(inplace=True)\n",
              "    (16): MaxPool2d(kernel_size=2, stride=2, padding=0, dilation=1, ceil_mode=False)\n",
              "    (17): Conv2d(256, 512, kernel_size=(3, 3), stride=(1, 1), padding=(1, 1))\n",
              "    (18): ReLU(inplace=True)\n",
              "    (19): Conv2d(512, 512, kernel_size=(3, 3), stride=(1, 1), padding=(1, 1))\n",
              "    (20): ReLU(inplace=True)\n",
              "    (21): Conv2d(512, 512, kernel_size=(3, 3), stride=(1, 1), padding=(1, 1))\n",
              "    (22): ReLU(inplace=True)\n",
              "    (23): MaxPool2d(kernel_size=2, stride=2, padding=0, dilation=1, ceil_mode=False)\n",
              "    (24): Conv2d(512, 512, kernel_size=(3, 3), stride=(1, 1), padding=(1, 1))\n",
              "    (25): ReLU(inplace=True)\n",
              "    (26): Conv2d(512, 512, kernel_size=(3, 3), stride=(1, 1), padding=(1, 1))\n",
              "    (27): ReLU(inplace=True)\n",
              "    (28): Conv2d(512, 512, kernel_size=(3, 3), stride=(1, 1), padding=(1, 1))\n",
              "    (29): ReLU(inplace=True)\n",
              "    (30): MaxPool2d(kernel_size=2, stride=2, padding=0, dilation=1, ceil_mode=False)\n",
              "  )\n",
              "  (avgpool): AdaptiveAvgPool2d(output_size=(7, 7))\n",
              "  (classifier): Sequential(\n",
              "    (0): Linear(in_features=25088, out_features=4096, bias=True)\n",
              "    (1): ReLU(inplace=True)\n",
              "    (2): Dropout(p=0.5, inplace=False)\n",
              "    (3): Linear(in_features=4096, out_features=4096, bias=True)\n",
              "    (4): ReLU(inplace=True)\n",
              "    (5): Dropout(p=0.5, inplace=False)\n",
              "    (6): Linear(in_features=4096, out_features=1000, bias=True)\n",
              "  )\n",
              ")"
            ]
          },
          "metadata": {},
          "execution_count": 19
        }
      ]
    },
    {
      "cell_type": "markdown",
      "source": [
        "Заменим последний слой классификатора, чтобы он подходил по размеру под наш датасет"
      ],
      "metadata": {
        "id": "DlLQv4ZMT0Dz"
      }
    },
    {
      "cell_type": "code",
      "source": [
        "vgg.classifier[6] = nn.Linear(4096, len(classes))"
      ],
      "metadata": {
        "id": "ar01x_qUTdFy"
      },
      "execution_count": 20,
      "outputs": []
    },
    {
      "cell_type": "markdown",
      "source": [
        "Много эпох ставить нет смысла. Я пробовал обучать модель на 10 эпохах, но результат все время был примерно одинаковым. Поэтому доучим всего 3 эпохи. Так как эта сеть уже обучена на имеджнете, то распознавать фичи на картинках она уже умеет"
      ],
      "metadata": {
        "id": "FemRUg-nPSDa"
      }
    },
    {
      "cell_type": "code",
      "source": [
        "vgg = vgg.to(device)\n",
        "criterion = nn.CrossEntropyLoss()\n",
        "optimizer = torch.optim.Adam(vgg.parameters(), lr=1e-4)\n",
        "\n",
        "epochs = 2"
      ],
      "metadata": {
        "id": "hKXoqYfKTweU"
      },
      "execution_count": 21,
      "outputs": []
    },
    {
      "cell_type": "code",
      "source": [
        "vgg_stats = train_model(vgg, train_loader, val_loader, epochs, optimizer, criterion, device)"
      ],
      "metadata": {
        "id": "S905ZPYBUETC"
      },
      "execution_count": 22,
      "outputs": []
    },
    {
      "cell_type": "code",
      "source": [
        "plot_loss_history(vgg_stats[0], vgg_stats[1])"
      ],
      "metadata": {
        "colab": {
          "base_uri": "https://localhost:8080/",
          "height": 513
        },
        "id": "CcHHFj5tU49a",
        "outputId": "11cb8116-13ce-45a7-a895-16107909cb64"
      },
      "execution_count": 23,
      "outputs": [
        {
          "output_type": "display_data",
          "data": {
            "text/plain": [
              "<Figure size 720x576 with 1 Axes>"
            ],
            "image/png": "[encoded data removed]"
          },
          "metadata": {
            "needs_background": "light"
          }
        }
      ]
    },
    {
      "cell_type": "code",
      "source": [
        "plot_acc_history(vgg_stats[2], vgg_stats[3])"
      ],
      "metadata": {
        "colab": {
          "base_uri": "https://localhost:8080/",
          "height": 513
        },
        "id": "xs1ont0GXwVs",
        "outputId": "bd24ac7d-8b47-42d8-9d4c-57d99af33cfe"
      },
      "execution_count": 24,
      "outputs": [
        {
          "output_type": "display_data",
          "data": {
            "text/plain": [
              "<Figure size 720x576 with 1 Axes>"
            ],
            "image/png": "[encoded data removed]"
          },
          "metadata": {
            "needs_background": "light"
          }
        }
      ]
    },
    {
      "cell_type": "code",
      "source": [
        "print('Final accuracy =', vgg_stats[3][-1])"
      ],
      "metadata": {
        "colab": {
          "base_uri": "https://localhost:8080/"
        },
        "id": "9FXSd04qXzwA",
        "outputId": "43aa85ec-fef5-4d63-b36f-8c1f025034c5"
      },
      "execution_count": 25,
      "outputs": [
        {
          "output_type": "stream",
          "name": "stdout",
          "text": [
            "Final accuracy = 0.8199728260869565\n"
          ]
        }
      ]
    },
    {
      "cell_type": "markdown",
      "source": [
        "Теперь попробуем дообучить ResNet18"
      ],
      "metadata": {
        "id": "bRKLoIWcZo9H"
      }
    },
    {
      "cell_type": "code",
      "source": [
        "resnet = models.resnet18(pretrained=True)"
      ],
      "metadata": {
        "colab": {
          "base_uri": "https://localhost:8080/",
          "height": 66,
          "referenced_widgets": [
            "0e05a18b75d440e7a82bfc5efa622e52",
            "eb26cdf935a341d2ac877f379c397a32",
            "a8c6d57e96b9423f833533edfaf2f220",
            "a51cafc087f84139ab10450d37a03d53",
            "aaa230c2fdc54bdfa91a3759fc9eaf5b",
            "67aeff546c4f492aa13ea97b6a312405",
            "79046f9053cd4c29a99f56c89c6620d2",
            "6815335f90aa49d5bd9818f4effc4d61",
            "cc344e7f0f5b42e9ac1765f1fcb70f13",
            "821f30eeeea24cd185af8914edcce9e6",
            "101e34929b41426cb7f243a6f3b681e0"
          ]
        },
        "id": "U53YP5USZoLE",
        "outputId": "db269dea-f399-4eb2-cfd0-12edaf9a250b"
      },
      "execution_count": 26,
      "outputs": [
        {
          "output_type": "stream",
          "name": "stderr",
          "text": [
            "Downloading: \"https://download.pytorch.org/models/resnet18-f37072fd.pth\" to /root/.cache/torch/hub/checkpoints/resnet18-f37072fd.pth\n"
          ]
        },
        {
          "output_type": "display_data",
          "data": {
            "text/plain": [
              "  0%|          | 0.00/44.7M [00:00<?, ?B/s]"
            ],
            "application/vnd.jupyter.widget-view+json": {
              "version_major": 2,
              "version_minor": 0,
              "model_id": "0e05a18b75d440e7a82bfc5efa622e52"
            }
          },
          "metadata": {}
        }
      ]
    },
    {
      "cell_type": "code",
      "source": [
        "resnet"
      ],
      "metadata": {
        "colab": {
          "base_uri": "https://localhost:8080/"
        },
        "id": "Jj-sf4wfZ1On",
        "outputId": "418be1b9-ab19-4a83-ef71-edb8f5356a0f"
      },
      "execution_count": 27,
      "outputs": [
        {
          "output_type": "execute_result",
          "data": {
            "text/plain": [
              "ResNet(\n",
              "  (conv1): Conv2d(3, 64, kernel_size=(7, 7), stride=(2, 2), padding=(3, 3), bias=False)\n",
              "  (bn1): BatchNorm2d(64, eps=1e-05, momentum=0.1, affine=True, track_running_stats=True)\n",
              "  (relu): ReLU(inplace=True)\n",
              "  (maxpool): MaxPool2d(kernel_size=3, stride=2, padding=1, dilation=1, ceil_mode=False)\n",
              "  (layer1): Sequential(\n",
              "    (0): BasicBlock(\n",
              "      (conv1): Conv2d(64, 64, kernel_size=(3, 3), stride=(1, 1), padding=(1, 1), bias=False)\n",
              "      (bn1): BatchNorm2d(64, eps=1e-05, momentum=0.1, affine=True, track_running_stats=True)\n",
              "      (relu): ReLU(inplace=True)\n",
              "      (conv2): Conv2d(64, 64, kernel_size=(3, 3), stride=(1, 1), padding=(1, 1), bias=False)\n",
              "      (bn2): BatchNorm2d(64, eps=1e-05, momentum=0.1, affine=True, track_running_stats=True)\n",
              "    )\n",
              "    (1): BasicBlock(\n",
              "      (conv1): Conv2d(64, 64, kernel_size=(3, 3), stride=(1, 1), padding=(1, 1), bias=False)\n",
              "      (bn1): BatchNorm2d(64, eps=1e-05, momentum=0.1, affine=True, track_running_stats=True)\n",
              "      (relu): ReLU(inplace=True)\n",
              "      (conv2): Conv2d(64, 64, kernel_size=(3, 3), stride=(1, 1), padding=(1, 1), bias=False)\n",
              "      (bn2): BatchNorm2d(64, eps=1e-05, momentum=0.1, affine=True, track_running_stats=True)\n",
              "    )\n",
              "  )\n",
              "  (layer2): Sequential(\n",
              "    (0): BasicBlock(\n",
              "      (conv1): Conv2d(64, 128, kernel_size=(3, 3), stride=(2, 2), padding=(1, 1), bias=False)\n",
              "      (bn1): BatchNorm2d(128, eps=1e-05, momentum=0.1, affine=True, track_running_stats=True)\n",
              "      (relu): ReLU(inplace=True)\n",
              "      (conv2): Conv2d(128, 128, kernel_size=(3, 3), stride=(1, 1), padding=(1, 1), bias=False)\n",
              "      (bn2): BatchNorm2d(128, eps=1e-05, momentum=0.1, affine=True, track_running_stats=True)\n",
              "      (downsample): Sequential(\n",
              "        (0): Conv2d(64, 128, kernel_size=(1, 1), stride=(2, 2), bias=False)\n",
              "        (1): BatchNorm2d(128, eps=1e-05, momentum=0.1, affine=True, track_running_stats=True)\n",
              "      )\n",
              "    )\n",
              "    (1): BasicBlock(\n",
              "      (conv1): Conv2d(128, 128, kernel_size=(3, 3), stride=(1, 1), padding=(1, 1), bias=False)\n",
              "      (bn1): BatchNorm2d(128, eps=1e-05, momentum=0.1, affine=True, track_running_stats=True)\n",
              "      (relu): ReLU(inplace=True)\n",
              "      (conv2): Conv2d(128, 128, kernel_size=(3, 3), stride=(1, 1), padding=(1, 1), bias=False)\n",
              "      (bn2): BatchNorm2d(128, eps=1e-05, momentum=0.1, affine=True, track_running_stats=True)\n",
              "    )\n",
              "  )\n",
              "  (layer3): Sequential(\n",
              "    (0): BasicBlock(\n",
              "      (conv1): Conv2d(128, 256, kernel_size=(3, 3), stride=(2, 2), padding=(1, 1), bias=False)\n",
              "      (bn1): BatchNorm2d(256, eps=1e-05, momentum=0.1, affine=True, track_running_stats=True)\n",
              "      (relu): ReLU(inplace=True)\n",
              "      (conv2): Conv2d(256, 256, kernel_size=(3, 3), stride=(1, 1), padding=(1, 1), bias=False)\n",
              "      (bn2): BatchNorm2d(256, eps=1e-05, momentum=0.1, affine=True, track_running_stats=True)\n",
              "      (downsample): Sequential(\n",
              "        (0): Conv2d(128, 256, kernel_size=(1, 1), stride=(2, 2), bias=False)\n",
              "        (1): BatchNorm2d(256, eps=1e-05, momentum=0.1, affine=True, track_running_stats=True)\n",
              "      )\n",
              "    )\n",
              "    (1): BasicBlock(\n",
              "      (conv1): Conv2d(256, 256, kernel_size=(3, 3), stride=(1, 1), padding=(1, 1), bias=False)\n",
              "      (bn1): BatchNorm2d(256, eps=1e-05, momentum=0.1, affine=True, track_running_stats=True)\n",
              "      (relu): ReLU(inplace=True)\n",
              "      (conv2): Conv2d(256, 256, kernel_size=(3, 3), stride=(1, 1), padding=(1, 1), bias=False)\n",
              "      (bn2): BatchNorm2d(256, eps=1e-05, momentum=0.1, affine=True, track_running_stats=True)\n",
              "    )\n",
              "  )\n",
              "  (layer4): Sequential(\n",
              "    (0): BasicBlock(\n",
              "      (conv1): Conv2d(256, 512, kernel_size=(3, 3), stride=(2, 2), padding=(1, 1), bias=False)\n",
              "      (bn1): BatchNorm2d(512, eps=1e-05, momentum=0.1, affine=True, track_running_stats=True)\n",
              "      (relu): ReLU(inplace=True)\n",
              "      (conv2): Conv2d(512, 512, kernel_size=(3, 3), stride=(1, 1), padding=(1, 1), bias=False)\n",
              "      (bn2): BatchNorm2d(512, eps=1e-05, momentum=0.1, affine=True, track_running_stats=True)\n",
              "      (downsample): Sequential(\n",
              "        (0): Conv2d(256, 512, kernel_size=(1, 1), stride=(2, 2), bias=False)\n",
              "        (1): BatchNorm2d(512, eps=1e-05, momentum=0.1, affine=True, track_running_stats=True)\n",
              "      )\n",
              "    )\n",
              "    (1): BasicBlock(\n",
              "      (conv1): Conv2d(512, 512, kernel_size=(3, 3), stride=(1, 1), padding=(1, 1), bias=False)\n",
              "      (bn1): BatchNorm2d(512, eps=1e-05, momentum=0.1, affine=True, track_running_stats=True)\n",
              "      (relu): ReLU(inplace=True)\n",
              "      (conv2): Conv2d(512, 512, kernel_size=(3, 3), stride=(1, 1), padding=(1, 1), bias=False)\n",
              "      (bn2): BatchNorm2d(512, eps=1e-05, momentum=0.1, affine=True, track_running_stats=True)\n",
              "    )\n",
              "  )\n",
              "  (avgpool): AdaptiveAvgPool2d(output_size=(1, 1))\n",
              "  (fc): Linear(in_features=512, out_features=1000, bias=True)\n",
              ")"
            ]
          },
          "metadata": {},
          "execution_count": 27
        }
      ]
    },
    {
      "cell_type": "code",
      "source": [
        "resnet.fc = nn.Linear(512, len(classes))"
      ],
      "metadata": {
        "id": "gY0EnWQ9Z3kn"
      },
      "execution_count": 28,
      "outputs": []
    },
    {
      "cell_type": "code",
      "source": [
        "resnet = resnet.to(device)\n",
        "criterion = nn.CrossEntropyLoss()\n",
        "optimizer = torch.optim.Adam(resnet.parameters(), lr=1e-4)\n",
        "\n",
        "epochs = 2"
      ],
      "metadata": {
        "id": "MdNstmXOZ6sl"
      },
      "execution_count": 29,
      "outputs": []
    },
    {
      "cell_type": "code",
      "source": [
        "resnet_stats = train_model(resnet, train_loader, val_loader, epochs, optimizer, criterion, device)"
      ],
      "metadata": {
        "id": "9Ps5m06FaFtd"
      },
      "execution_count": 30,
      "outputs": []
    },
    {
      "cell_type": "code",
      "source": [
        "plot_loss_history(resnet_stats[0], resnet_stats[1])"
      ],
      "metadata": {
        "colab": {
          "base_uri": "https://localhost:8080/",
          "height": 513
        },
        "id": "DHoCVw3aaKZ4",
        "outputId": "ce64c55a-f8f2-43e4-da2f-5fa341f69ad9"
      },
      "execution_count": 31,
      "outputs": [
        {
          "output_type": "display_data",
          "data": {
            "text/plain": [
              "<Figure size 720x576 with 1 Axes>"
            ],
            "image/png": "[encoded data removed]"
          },
          "metadata": {
            "needs_background": "light"
          }
        }
      ]
    },
    {
      "cell_type": "code",
      "source": [
        "plot_acc_history(resnet_stats[2], resnet_stats[3])"
      ],
      "metadata": {
        "colab": {
          "base_uri": "https://localhost:8080/",
          "height": 513
        },
        "id": "mzIT44yzaNlx",
        "outputId": "f2591dff-8cb7-4637-96d8-06e71370cca2"
      },
      "execution_count": 32,
      "outputs": [
        {
          "output_type": "display_data",
          "data": {
            "text/plain": [
              "<Figure size 720x576 with 1 Axes>"
            ],
            "image/png": "[encoded data removed]"
          },
          "metadata": {
            "needs_background": "light"
          }
        }
      ]
    },
    {
      "cell_type": "code",
      "source": [
        "print('Final accuracy =', resnet_stats[3][-1])"
      ],
      "metadata": {
        "colab": {
          "base_uri": "https://localhost:8080/"
        },
        "id": "a14E4aruaPy3",
        "outputId": "1be3cb9b-8c76-45e3-f0b7-d72a4d5abdbe"
      },
      "execution_count": 33,
      "outputs": [
        {
          "output_type": "stream",
          "name": "stdout",
          "text": [
            "Final accuracy = 0.811141304347826\n"
          ]
        }
      ]
    },
    {
      "cell_type": "markdown",
      "source": [
        "Результаты у сеток получились примерно одинаковые: accuracy = 0.81. Рассмотрим реснет более детально: построим для него матрицу неточностей и посчитаем топ к эккюраси:"
      ],
      "metadata": {
        "id": "mtxoYg2ePwu5"
      }
    },
    {
      "cell_type": "code",
      "source": [
        "plot_confusion_matrix(resnet, val_loader)"
      ],
      "metadata": {
        "id": "g-1SLdITbHTB",
        "colab": {
          "base_uri": "https://localhost:8080/",
          "height": 978
        },
        "outputId": "1c181811-ee16-48f2-a171-255e5ad96697"
      },
      "execution_count": 34,
      "outputs": [
        {
          "output_type": "display_data",
          "data": {
            "text/plain": [
              "<Figure size 1080x1080 with 2 Axes>"
            ],
            "image/png": "[encoded data removed]"
          },
          "metadata": {
            "needs_background": "light"
          }
        }
      ]
    },
    {
      "cell_type": "markdown",
      "source": [
        "Модель хорошо справляется с задачей: почти все элементы датасета находятся на диагонали матрицы неточностей.\n",
        "\n",
        "Посчитаем топ 3 и топ 5 эккюраси."
      ],
      "metadata": {
        "id": "nxy_wRl5Qdb3"
      }
    },
    {
      "cell_type": "code",
      "source": [
        "from sklearn.metrics import top_k_accuracy_score\n",
        "\n",
        "def get_top_k_accuracy(model, val, k):\n",
        "    preds = None\n",
        "    reals = None\n",
        "    model.eval()\n",
        "    with torch.no_grad():\n",
        "        for X_batch, y_batch in val:\n",
        "            X_batch = X_batch.to(device)\n",
        "            y_batch = y_batch.to(device)\n",
        "\n",
        "            y_pred = model(X_batch)\n",
        "            if preds is None:\n",
        "                preds = y_pred.cpu().numpy()\n",
        "                reals = y_batch.cpu().numpy()\n",
        "            else:\n",
        "                preds = np.vstack([preds, y_pred.cpu().numpy()])\n",
        "                reals = np.concatenate([reals, y_batch.cpu().numpy()])\n",
        "    return top_k_accuracy_score(reals, preds, k=k)"
      ],
      "metadata": {
        "id": "1W1NZ8_OQJxo"
      },
      "execution_count": 43,
      "outputs": []
    },
    {
      "cell_type": "code",
      "source": [
        "get_top_k_accuracy(resnet, val_loader, 3)"
      ],
      "metadata": {
        "colab": {
          "base_uri": "https://localhost:8080/"
        },
        "id": "84j767qNRQ5O",
        "outputId": "7c4ef7c1-9a5f-4f4d-a1b2-509d48846704"
      },
      "execution_count": 44,
      "outputs": [
        {
          "output_type": "execute_result",
          "data": {
            "text/plain": [
              "0.954483695652174"
            ]
          },
          "metadata": {},
          "execution_count": 44
        }
      ]
    },
    {
      "cell_type": "code",
      "source": [
        "get_top_k_accuracy(resnet, val_loader, 5)"
      ],
      "metadata": {
        "colab": {
          "base_uri": "https://localhost:8080/"
        },
        "id": "Yz1DZSdyRYIy",
        "outputId": "cb1692d2-f99d-4a38-c06d-6243ed7acdf0"
      },
      "execution_count": 45,
      "outputs": [
        {
          "output_type": "execute_result",
          "data": {
            "text/plain": [
              "0.9782608695652174"
            ]
          },
          "metadata": {},
          "execution_count": 45
        }
      ]
    },
    {
      "cell_type": "markdown",
      "source": [
        "Видим, что правильный ответ находится в топ 3 вариантах модели в 95% случаев, а в топ 5 - в 98%."
      ],
      "metadata": {
        "id": "BynXeQzHVzZP"
      }
    },
    {
      "cell_type": "markdown",
      "source": [
        "Точность бинарной классификации - кошки vs собаки:\n",
        "\n",
        "К сожалению, из датасета нельзя быстро понять, какая из пород относится к собакам, а какая к кошкам. А на ручную разметку времени, к сожалению нет :(\n",
        "\n",
        "Но мы можем прикинуть точность по построенной конфьюжен матрице. Я посмотрел на ячейки с большими числами, которые не лежат на диагонали. Там я увидел несколько случаев, когда модель просто путает породы собак (или породы кошек). Но иногда она путает собак и кошек в принципе (например, 12 раз она перепутала бульдога с мейн куном). Но в целом таких случаев не так много - не больше 50. Значит, точность классификации кошек и собак примерно равна 96% (или даже выше)\n"
      ],
      "metadata": {
        "id": "_3NobwNuWLZg"
      }
    },
    {
      "cell_type": "code",
      "source": [
        "1 - (50 / len(val_dataset))"
      ],
      "metadata": {
        "colab": {
          "base_uri": "https://localhost:8080/"
        },
        "id": "6EJo-HFyYBhP",
        "outputId": "0d030f82-2f2b-489c-bcd0-5b25a3ef2241"
      },
      "execution_count": 47,
      "outputs": [
        {
          "output_type": "execute_result",
          "data": {
            "text/plain": [
              "0.9668654738237243"
            ]
          },
          "metadata": {},
          "execution_count": 47
        }
      ]
    },
    {
      "cell_type": "code",
      "source": [
        ""
      ],
      "metadata": {
        "id": "WII9NtwiYUjD"
      },
      "execution_count": null,
      "outputs": []
    }
  ]
}